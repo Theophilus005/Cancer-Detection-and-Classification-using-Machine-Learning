{
 "cells": [
  {
   "cell_type": "markdown",
   "id": "0d055d21",
   "metadata": {},
   "source": [
    "## Import libraries"
   ]
  },
  {
   "cell_type": "code",
   "execution_count": 33,
   "id": "94e7c313",
   "metadata": {},
   "outputs": [],
   "source": [
    "import numpy as np\n",
    "import tensorflow as tf\n",
    "import matplotlib.pyplot as plt\n",
    "import os\n",
    "import shutil\n",
    "from tensorflow import keras\n",
    "from tensorflow.keras import layers\n",
    "from tensorflow.keras.models import Sequential\n",
    "from sklearn.metrics import plot_confusion_matrix\n",
    "from sklearn.model_selection import train_test_split"
   ]
  },
  {
   "cell_type": "markdown",
   "id": "a59066c9",
   "metadata": {},
   "source": [
    "## Data pre-processing"
   ]
  },
  {
   "cell_type": "code",
   "execution_count": null,
   "id": "5601ce6a",
   "metadata": {},
   "outputs": [],
   "source": [
    "classes = os.listdir(\"dataset/Oral Cancer\")\n",
    "train_dir = \"dataset/Oral Cancer/Training\"\n",
    "test_dir = \"dataset/Oral Cancer/Testing\"\n",
    "source_dir = \"dataset/Oral Cancer\""
   ]
  },
  {
   "cell_type": "code",
   "execution_count": 50,
   "id": "d644caa5",
   "metadata": {},
   "outputs": [],
   "source": [
    "for _class in classes:\n",
    "    if _class != \"Training\" and _class != \"Testing\":\n",
    "        os.mkdir(train_dir+\"/\"+_class)  #Make the class directory\n",
    "        os.mkdir(test_dir+\"/\"+_class)\n",
    "        data = os.listdir(source_dir+\"/\"+_class)#Get all the image names in the class\n",
    "        train, test = train_test_split(data, test_size=0.2, random_state=1)  #Split into train and test set\n",
    "        for filename in train:\n",
    "            shutil.move(source_dir+\"/\"+_class+\"/\"+filename, train_dir+\"/\"+_class)\n",
    "        for filename in test:\n",
    "            shutil.move(source_dir+\"/\"+_class+\"/\"+filename, test_dir+\"/\"+_class)"
   ]
  },
  {
   "cell_type": "markdown",
   "id": "a09504c1",
   "metadata": {},
   "source": [
    "## Delete excess files"
   ]
  },
  {
   "cell_type": "code",
   "execution_count": 55,
   "id": "4719f8d0",
   "metadata": {},
   "outputs": [],
   "source": [
    "categories = os.listdir(\"dataset\")\n",
    "for category in categories:\n",
    "    train_set = os.listdir(\"dataset/\"+category+\"/\"+\"Training\")\n",
    "    test_set = os.listdir(\"dataset/\"+category+\"/\"+\"Testing\")\n",
    "    \n",
    "    for kind in train_set:\n",
    "        train_files = os.listdir(\"dataset/\"+category+\"/\"+\"Training\"+\"/\"+kind)\n",
    "        test_files = os.listdir(\"dataset/\"+category+\"/\"+\"Testing\"+\"/\"+kind)      \n",
    "        \n",
    "        for i in range(int(len(train_files)/2)):\n",
    "            os.remove(\"dataset/\"+category+\"/\"+\"Training\"+\"/\"+kind+\"/\"+train_files[i])\n",
    "            \n",
    "        for j in range(int(len(test_files)/2)):\n",
    "            os.remove(\"dataset/\"+category+\"/\"+\"Testing\"+\"/\"+kind+\"/\"+test_files[j])\n",
    "    "
   ]
  },
  {
   "cell_type": "code",
   "execution_count": null,
   "id": "6067c338",
   "metadata": {},
   "outputs": [],
   "source": []
  }
 ],
 "metadata": {
  "kernelspec": {
   "display_name": "Python 3 (ipykernel)",
   "language": "python",
   "name": "python3"
  },
  "language_info": {
   "codemirror_mode": {
    "name": "ipython",
    "version": 3
   },
   "file_extension": ".py",
   "mimetype": "text/x-python",
   "name": "python",
   "nbconvert_exporter": "python",
   "pygments_lexer": "ipython3",
   "version": "3.9.13"
  }
 },
 "nbformat": 4,
 "nbformat_minor": 5
}
